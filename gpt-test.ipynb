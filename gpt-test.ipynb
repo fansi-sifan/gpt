{
 "cells": [
  {
   "attachments": {},
   "cell_type": "markdown",
   "metadata": {},
   "source": [
    "# OpenAI, directy query"
   ]
  },
  {
   "cell_type": "code",
   "execution_count": null,
   "metadata": {},
   "outputs": [],
   "source": [
    "import openai\n",
    "import os"
   ]
  },
  {
   "cell_type": "code",
   "execution_count": null,
   "metadata": {},
   "outputs": [],
   "source": [
    "from dotenv import load_dotenv, find_dotenv\n",
    "_ = load_dotenv(find_dotenv()) # read local .env file\n",
    "\n",
    "openai.api_key  = os.getenv('OPENAI_API_KEY')"
   ]
  },
  {
   "cell_type": "code",
   "execution_count": null,
   "metadata": {},
   "outputs": [],
   "source": [
    "def get_completion(prompt, model=\"gpt-3.5-turbo\"): # Andrew mentioned that the prompt/ completion paradigm is preferable for this class\n",
    "    messages = [{\"role\": \"user\", \"content\": prompt}]\n",
    "    response = openai.ChatCompletion.create(\n",
    "        model=model,\n",
    "        messages=messages,\n",
    "        temperature=0, # this is the degree of randomness of the model's output\n",
    "    )\n",
    "    return response.choices[0].message[\"content\"]"
   ]
  },
  {
   "cell_type": "code",
   "execution_count": 23,
   "metadata": {},
   "outputs": [],
   "source": [
    "text = f\"\"\"photographe   infographiste, chief scientist    , safety manager\"\"\"\n",
    "prompt = f\"\"\"\n",
    "Categorize each of the job title ```{text}``` deliminated by ',' into one of the following job functions. \n",
    "Make sure to use only the functions from the list, and use the exact name of the job functions from the following list, and reference the number. \n",
    "Put them in csv format, with column names as :   job title, functions, number\n",
    " 2 finance              \n",
    " 3 engineering          \n",
    " 4 customer success     \n",
    " 5 retail               \n",
    " 6 operations           \n",
    " 7 design               \n",
    " 8 sales                \n",
    " 9 marketing            \n",
    "10 administration       \n",
    "11 support              \n",
    "12 product              \n",
    "13 general management   \n",
    "14 HR                   \n",
    "15 commercial management\n",
    "16 analytics            \n",
    "17 recruiting           \n",
    "18 legal \n",
    "\"\"\""
   ]
  },
  {
   "cell_type": "code",
   "execution_count": 24,
   "metadata": {},
   "outputs": [
    {
     "name": "stdout",
     "output_type": "stream",
     "text": [
      "job title, functions, number\n",
      "photographe, design, 7\n",
      "infographiste, design, 7\n",
      "chief scientist, analytics, 16\n",
      "safety manager, operations, 6\n"
     ]
    }
   ],
   "source": [
    "response = get_completion(prompt)\n",
    "print(response)"
   ]
  },
  {
   "attachments": {},
   "cell_type": "markdown",
   "metadata": {},
   "source": [
    "# LongChain"
   ]
  },
  {
   "cell_type": "code",
   "execution_count": 13,
   "metadata": {},
   "outputs": [],
   "source": [
    "from langchain.llms import OpenAI"
   ]
  },
  {
   "cell_type": "code",
   "execution_count": 14,
   "metadata": {},
   "outputs": [],
   "source": [
    "llm = OpenAI(temperature=0.9)"
   ]
  },
  {
   "cell_type": "code",
   "execution_count": 25,
   "metadata": {},
   "outputs": [
    {
     "name": "stdout",
     "output_type": "stream",
     "text": [
      "\n",
      "photographe, design, 7\n",
      "infographiste, design, 7\n",
      "chief scientist, analytics, 16\n",
      "safety manager, administration, 10\n"
     ]
    }
   ],
   "source": [
    "print(llm(prompt))"
   ]
  },
  {
   "attachments": {},
   "cell_type": "markdown",
   "metadata": {},
   "source": [
    "## Use Chain\n",
    "\n",
    "https://python.langchain.com/en/latest/getting_started/getting_started.html"
   ]
  },
  {
   "cell_type": "code",
   "execution_count": 6,
   "metadata": {},
   "outputs": [],
   "source": [
    "from langchain.prompts import PromptTemplate\n",
    "from langchain.llms import OpenAI\n",
    "\n",
    "llm = OpenAI(temperature=0.9)\n",
    "prompt = PromptTemplate(\n",
    "    input_variables=[\"titles\"],\n",
    "    template= \"\"\"Categorize each of the job title {titles} deliminated by ',' into one of the following job functions. \n",
    "    Make sure to use only the functions from the list, and use the exact name of the job functions from the following list, and reference the number. \n",
    "    Put them in csv format, with column names as :   job title, functions, number\n",
    "    2 finance              \n",
    " 3 engineering          \n",
    " 4 customer success     \n",
    " 5 retail               \n",
    " 6 operations           \n",
    " 7 design               \n",
    " 8 sales                \n",
    " 9 marketing            \n",
    "10 administration       \n",
    "11 support              \n",
    "12 product              \n",
    "13 general management   \n",
    "14 HR                   \n",
    "15 commercial management\n",
    "16 analytics            \n",
    "17 recruiting           \n",
    "18 legal \"\"\",\n",
    ")"
   ]
  },
  {
   "cell_type": "code",
   "execution_count": 8,
   "metadata": {},
   "outputs": [],
   "source": [
    "from langchain.chains import LLMChain\n",
    "chain = LLMChain(llm=llm, prompt=prompt)"
   ]
  },
  {
   "cell_type": "code",
   "execution_count": 9,
   "metadata": {},
   "outputs": [
    {
     "data": {
      "text/plain": [
       "'\\n\\nphotographe, design, 7 \\ninfographiste, design, 7 \\nchief scientist, engineering, 3 \\nsafety manager, operations, 6'"
      ]
     },
     "execution_count": 9,
     "metadata": {},
     "output_type": "execute_result"
    }
   ],
   "source": [
    "chain.run(\"photographe   infographiste, chief scientist    , safety manager\")"
   ]
  },
  {
   "attachments": {},
   "cell_type": "markdown",
   "metadata": {},
   "source": [
    "## Indexes\n",
    "https://python.langchain.com/en/latest/modules/indexes/document_loaders/examples/csv.html\n",
    "https://js.langchain.com/docs/modules/indexes/document_loaders/examples/file_loaders/csv"
   ]
  },
  {
   "cell_type": "code",
   "execution_count": null,
   "metadata": {},
   "outputs": [],
   "source": [
    "# load CSV\n",
    "from langchain.document_loaders.csv_loader import CSVLoader\n",
    "loader = CSVLoader(file_path='./example_data/mlb_teams_2012.csv', csv_args={\n",
    "    'delimiter': ',',\n",
    "    'quotechar': '\"',\n",
    "    'fieldnames': ['MLB Team', 'Payroll in millions', 'Wins']\n",
    "})\n",
    "\n",
    "data = loader.load()"
   ]
  }
 ],
 "metadata": {
  "kernelspec": {
   "display_name": "Python 3",
   "language": "python",
   "name": "python3"
  },
  "language_info": {
   "codemirror_mode": {
    "name": "ipython",
    "version": 3
   },
   "file_extension": ".py",
   "mimetype": "text/x-python",
   "name": "python",
   "nbconvert_exporter": "python",
   "pygments_lexer": "ipython3",
   "version": "3.9.13"
  },
  "orig_nbformat": 4
 },
 "nbformat": 4,
 "nbformat_minor": 2
}
