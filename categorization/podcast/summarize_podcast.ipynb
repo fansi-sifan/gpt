{
 "cells": [
  {
   "attachments": {},
   "cell_type": "markdown",
   "metadata": {},
   "source": [
    "# Summarise podcast transcripts"
   ]
  },
  {
   "attachments": {},
   "cell_type": "markdown",
   "metadata": {},
   "source": [
    "Prepare raw caption data (manual copy-past + data clean)"
   ]
  },
  {
   "cell_type": "code",
   "execution_count": 4,
   "metadata": {},
   "outputs": [
    {
     "name": "stdout",
     "output_type": "stream",
     "text": [
      "                                                   text timestamp\n",
      "0     two one boom all right we're live thank you ve...      0:00\n",
      "1     information and listening to you talk for uh q...      0:06\n",
      "2     having me my pleasure my pleasure you are one ...      0:12\n",
      "3     you are um you're deep in the tech world but y...      0:20\n",
      "4     perspective in terms of how to live life as op...      0:26\n",
      "...                                                 ...       ...\n",
      "1310  actually okay just at naval then i have a webs...   2:11:25\n",
      "1311  channel neval and i have a podcast in the worl...   2:11:30\n",
      "1312                    thank you bye everybody [Music]   2:11:35\n",
      "1313                                 [Applause] [Music]   2:11:41\n",
      "1314                                          [Music] i   2:11:51\n",
      "\n",
      "[1315 rows x 2 columns]\n"
     ]
    }
   ],
   "source": [
    "import pandas as pd\n",
    "\n",
    "# Read the text file into a DataFrame\n",
    "df = pd.read_csv('caption.txt', names=['Lines'])\n",
    "\n",
    "# Split odd and even lines into separate columns\n",
    "df_new = pd.DataFrame({\n",
    "    'text': df[df.index % 2 != 0]['Lines'].reset_index(drop=True),\n",
    "    'timestamp': df[df.index % 2 == 0]['Lines'].reset_index(drop=True)\n",
    "})\n",
    "\n",
    "print(df_new)"
   ]
  },
  {
   "attachments": {},
   "cell_type": "markdown",
   "metadata": {},
   "source": [
    "# OpenAI setup"
   ]
  },
  {
   "cell_type": "code",
   "execution_count": 8,
   "metadata": {},
   "outputs": [],
   "source": [
    "import os\n",
    "import openai\n",
    "from dotenv import load_dotenv, find_dotenv\n",
    "_ = load_dotenv(find_dotenv()) # read local .env file\n",
    "\n",
    "openai.api_key  = os.getenv('OPENAI_API_KEY')\n",
    "\n",
    "from langchain.llms import OpenAI\n",
    "llm = OpenAI(temperature=0, openai_api_key=openai.api_key)"
   ]
  },
  {
   "cell_type": "code",
   "execution_count": 45,
   "metadata": {},
   "outputs": [],
   "source": [
    "from langchain.text_splitter import CharacterTextSplitter\n",
    "from langchain.chains.mapreduce import MapReduceChain\n",
    "from langchain.prompts import PromptTemplate\n",
    "from langchain.chains.summarize import load_summarize_chain\n",
    "from langchain.docstore.document import Document\n",
    "from langchain.text_splitter import RecursiveCharacterTextSplitter"
   ]
  },
  {
   "cell_type": "code",
   "execution_count": 52,
   "metadata": {},
   "outputs": [
    {
     "data": {
      "text/plain": [
       "32397"
      ]
     },
     "execution_count": 52,
     "metadata": {},
     "output_type": "execute_result"
    }
   ],
   "source": [
    "captions_text = df_new['text'].str.cat(sep='\\n\\n')\n",
    "llm.get_num_tokens(captions_text)"
   ]
  },
  {
   "cell_type": "code",
   "execution_count": 53,
   "metadata": {},
   "outputs": [],
   "source": [
    "# text_splitter = RecursiveCharacterTextSplitter()\n",
    "text_splitter = CharacterTextSplitter()\n",
    "texts = text_splitter.split_text(captions_text)\n",
    "docs = [Document(page_content=t) for t in texts[:3]]"
   ]
  },
  {
   "attachments": {},
   "cell_type": "markdown",
   "metadata": {},
   "source": [
    "## LangChain methods"
   ]
  },
  {
   "attachments": {},
   "cell_type": "markdown",
   "metadata": {},
   "source": [
    "https://docs.langchain.com/docs/components/chains/index_related_chains\n",
    "- stuffing method: only makes a single call to the LLM\n",
    "- map reduce: run an initial prompt on each chunk, then a different prompt to combine all th initial outputs\n",
    "- refine: pass in output for remaining contents"
   ]
  },
  {
   "cell_type": "code",
   "execution_count": 59,
   "metadata": {},
   "outputs": [],
   "source": [
    "prompt_template = \"\"\"divide the following conversation into sections based on the topic, summarize the conversation\n",
    "and generate a subtitle for each:\n",
    "\n",
    "{text}\n",
    "\n",
    "Poscast Summary:\"\"\"\n",
    "\n",
    "PROMPT = PromptTemplate(template=prompt_template, input_variables=[\"text\"])"
   ]
  },
  {
   "attachments": {},
   "cell_type": "markdown",
   "metadata": {},
   "source": [
    "### Stuffing"
   ]
  },
  {
   "cell_type": "code",
   "execution_count": 54,
   "metadata": {},
   "outputs": [
    {
     "data": {
      "text/plain": [
       "' In this conversation, the speaker discusses the idea of balance in life and how to live a happy life. He talks about the idea of specialization being for insects and how people should try their hand at everything. He also talks about the idea of reading for understanding rather than reading for completion, and how social media can be a double-edged sword in terms of cultivating a self-image. He also talks about the idea of being rich and anonymous rather than poor and famous.'"
      ]
     },
     "execution_count": 54,
     "metadata": {},
     "output_type": "execute_result"
    }
   ],
   "source": [
    "chain = load_summarize_chain(llm, chain_type=\"stuff\")\n",
    "chain.run(docs)"
   ]
  },
  {
   "attachments": {},
   "cell_type": "markdown",
   "metadata": {},
   "source": [
    "with customized prompt"
   ]
  },
  {
   "cell_type": "code",
   "execution_count": 62,
   "metadata": {},
   "outputs": [
    {
     "name": "stdout",
     "output_type": "stream",
     "text": [
      "\n",
      "\n",
      "Balanced Perspective on Life:\n",
      "\n",
      "In this conversation, the two discuss the importance of having a balanced perspective on life and how to live it in a happy way. They talk about the ancient model of life, where one would try their hand at everything, and how specialization is for insects. They also discuss the importance of being willing to start over and have a beginner's mind, and how curiosity is key to learning and understanding.\n",
      "\n",
      "Reading Habits:\n",
      "\n",
      "The conversation then shifts to the topic of reading habits, and how one should read for understanding rather than to complete books. They discuss the importance of multitasking and how social media has changed the way we consume information. They also talk about the dangers of being a celebrity and how it can be a problem, and how people should strive to be rich and anonymous rather than poor and famous.\n"
     ]
    }
   ],
   "source": [
    "chain = load_summarize_chain(llm, chain_type=\"stuff\", prompt=PROMPT)\n",
    "results = chain.run(docs)\n",
    "print(results)"
   ]
  },
  {
   "attachments": {},
   "cell_type": "markdown",
   "metadata": {},
   "source": [
    "### Map Reduce"
   ]
  },
  {
   "cell_type": "code",
   "execution_count": 55,
   "metadata": {},
   "outputs": [
    {
     "data": {
      "text/plain": [
       "' The speaker discusses the importance of having a balanced perspective in life and not just focusing on success and financial success. He encourages people to have a beginner\\'s mind and to be willing to learn new things and make incremental progress. He also talks about the effects of modern society on attention spans and how social media can create an unrealistic version of one\\'s life. He encourages people to be \"rich and anonymous\" rather than \"poor and famous\" and to understand the difficulties of being a celebrity.'"
      ]
     },
     "execution_count": 55,
     "metadata": {},
     "output_type": "execute_result"
    }
   ],
   "source": [
    "chain = load_summarize_chain(llm, chain_type=\"map_reduce\")\n",
    "chain.run(docs)"
   ]
  },
  {
   "attachments": {},
   "cell_type": "markdown",
   "metadata": {},
   "source": [
    "with customized prompt"
   ]
  },
  {
   "cell_type": "code",
   "execution_count": 61,
   "metadata": {},
   "outputs": [
    {
     "name": "stderr",
     "output_type": "stream",
     "text": [
      "Retrying langchain.llms.openai.completion_with_retry.<locals>._completion_with_retry in 4.0 seconds as it raised Timeout: Request timed out: HTTPSConnectionPool(host='api.openai.com', port=443): Read timed out. (read timeout=600).\n"
     ]
    },
    {
     "data": {
      "text/plain": [
       "{'intermediate_steps': [\"\\n\\nTopic 1: Investing and Tech:\\nTwo people discuss the perspective of a big investor in the tech world who has a balanced approach to life.\\n\\nTopic 2: Combining Unusual Things:\\nThe conversation shifts to the idea of combining unusual things to create something interesting, such as Bruce Lee's combination of martial arts and philosophy.\\n\\nTopic 3: Multivariate Humans:\\nThe conversation moves to the idea that humans are multivariate and can experience and think about many different things.\\n\\nTopic 4: Ancient Model of Life:\\nThe two discuss the ancient model of life, where one starts out young and then goes to war, runs a business, serves in government, and becomes a philosopher.\\n\\nTopic 5: Specialization is for Insects:\\nThe conversation shifts to the idea that everyone should be able to do everything and that specialization is for insects.\\n\\nTopic 6: Fear of Starting Over:\\nThe two discuss the fear of starting over and how it can be difficult to go back to the bottom and look for a new path.\\n\\nTopic 7: Ability to Start Over:\\nThe conversation moves to the ability of great artists and creators to start over and how they have the beginner's mind to go back to the\",\n",
       "  '\\n\\nTopic 1: The Excitement of Learning\\n\\nSummary: The conversation focuses on the excitement of learning and the joy of having an \"aha moment\" when two things are connected together. The speakers discuss how children are always asking why and how adults often have to admit that they don\\'t know the answer. \\n\\nTopic 2: The External Brain Pack of Civilization\\n\\nSummary: The conversation shifts to the idea of having a \"one page cheat\" or a brief summary of a complex subject. The speakers discuss how people often rely on external sources of knowledge and how they have memorized certain things but don\\'t really understand them. \\n\\nTopic 3: Reading Habits\\n\\nSummary: The conversation turns to the speakers\\' reading habits and how they have changed over time. They discuss how reading a large number of books is often a vanity metric and how they prefer to read the best hundred books over and over again until they absorb them. They also talk about how they read to satisfy their genuine intellectual curiosity and how it can be anything from nonsense to science fiction.',\n",
       "  \"\\n\\nTopic 1: Sci-Fi Philosophy and Science:\\nThe conversation discusses the speaker's interest in sci-fi philosophy and science, and how they use electronic books to bounce around between them. They also discuss how modern society has caused people to have shorter attention spans, and how this can be viewed as a positive or negative.\\n\\nTopic 2: Social Media and Self-Image:\\nThe conversation then shifts to the effects of social media on self-image, and how it can be a double-edged sword. They discuss how people tend to cultivate and curate an unrealistic version of their life, and how compliments and insults can easily build up or tear down a person's self-image. They also discuss the drawbacks of being famous, and how it can be difficult to understand unless you experience it.\\n\\nTopic 3: Interruptions from Fame:\\nThe conversation concludes with a discussion of how fame can lead to interruptions in life, such as people coming up to take pictures without caring about the situation. The speaker's wife shares her experience of how she used to think this was just part of the price of being famous, but now that it interrupts her life and the lives of her children, she has a different perspective.\\n\\nSubtitles\"],\n",
       " 'output_text': ' Investing and Tech\\nCombining Unusual Things\\nMultivariate Humans\\nAncient Model of Life\\nSpecialization is for Insects\\nFear of Starting Over\\nAbility to Start Over\\nSci-Fi Philosophy and Science\\nSocial Media and Self-Image\\nInterruptions from Fame'}"
      ]
     },
     "execution_count": 61,
     "metadata": {},
     "output_type": "execute_result"
    }
   ],
   "source": [
    "chain = load_summarize_chain(OpenAI(temperature=0), chain_type=\"map_reduce\", return_intermediate_steps=True, map_prompt=PROMPT, combine_prompt=PROMPT)\n",
    "chain({\"input_documents\": docs}, return_only_outputs=True)"
   ]
  },
  {
   "attachments": {},
   "cell_type": "markdown",
   "metadata": {},
   "source": [
    "# Claude 100k tokens"
   ]
  }
 ],
 "metadata": {
  "kernelspec": {
   "display_name": "Python 3",
   "language": "python",
   "name": "python3"
  },
  "language_info": {
   "codemirror_mode": {
    "name": "ipython",
    "version": 3
   },
   "file_extension": ".py",
   "mimetype": "text/x-python",
   "name": "python",
   "nbconvert_exporter": "python",
   "pygments_lexer": "ipython3",
   "version": "3.9.13"
  },
  "orig_nbformat": 4
 },
 "nbformat": 4,
 "nbformat_minor": 2
}
