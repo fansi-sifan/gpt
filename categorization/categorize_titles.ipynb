{
 "cells": [
  {
   "attachments": {},
   "cell_type": "markdown",
   "metadata": {},
   "source": [
    "# Categorize raw job titles into pre-defined job functions and job levels\n",
    "tutorials: https://github.com/gkamradt/langchain-tutorials/blob/main/data_generation/Clean%20and%20Standardize%20Data.ipynb"
   ]
  },
  {
   "attachments": {},
   "cell_type": "markdown",
   "metadata": {},
   "source": [
    "# Load library"
   ]
  },
  {
   "cell_type": "code",
   "execution_count": 1,
   "metadata": {},
   "outputs": [],
   "source": [
    "from langchain.output_parsers import StructuredOutputParser, ResponseSchema\n",
    "from langchain.prompts import ChatPromptTemplate, HumanMessagePromptTemplate\n",
    "from langchain.llms import OpenAI\n",
    "from langchain.chat_models import ChatOpenAI\n",
    "import pandas as pd\n",
    "import json"
   ]
  },
  {
   "cell_type": "code",
   "execution_count": 2,
   "metadata": {},
   "outputs": [],
   "source": [
    "import os\n",
    "import openai\n",
    "from dotenv import load_dotenv, find_dotenv\n",
    "_ = load_dotenv(find_dotenv()) # read local .env file\n",
    "\n",
    "openai.api_key  = os.getenv('OPENAI_API_KEY')"
   ]
  },
  {
   "attachments": {},
   "cell_type": "markdown",
   "metadata": {},
   "source": [
    "# Define Model and output format"
   ]
  },
  {
   "cell_type": "code",
   "execution_count": 3,
   "metadata": {},
   "outputs": [],
   "source": [
    "# Temp = 0 so that we get clean information without a lot of creativity\n",
    "chat_model = ChatOpenAI(temperature=0, max_tokens=1000)"
   ]
  },
  {
   "cell_type": "code",
   "execution_count": 4,
   "metadata": {},
   "outputs": [],
   "source": [
    "# Define reponse structured as prompt template\n",
    "response_schemas = [\n",
    "    ResponseSchema(name=\"input_job titles\", description=\"This is the raw job titles from the user\"),\n",
    "    ResponseSchema(name=\"job functions\", description=\"This is the job function you feel is most closely matched to the users input\"),\n",
    "    ResponseSchema(name=\"job level\", description=\"This is the job level you feel is most closely matched to the users input\"),\n",
    "    ResponseSchema(name=\"match_score\",  description=\"A score 0-100 of how close you think the match is between user input and your match\")\n",
    "]\n",
    "\n",
    "# parse your output\n",
    "output_parser = StructuredOutputParser.from_response_schemas(response_schemas)"
   ]
  },
  {
   "cell_type": "markdown",
   "metadata": {},
   "source": []
  },
  {
   "cell_type": "code",
   "execution_count": 5,
   "metadata": {},
   "outputs": [
    {
     "name": "stdout",
     "output_type": "stream",
     "text": [
      "The output should be a markdown code snippet formatted in the following schema, including the leading and trailing \"\\`\\`\\`json\" and \"\\`\\`\\`\":\n",
      "\n",
      "```json\n",
      "{\n",
      "\t\"input_job titles\": string  // This is the raw job titles from the user\n",
      "\t\"job functions\": string  // This is the job function you feel is most closely matched to the users input\n",
      "\t\"job level\": string  // This is the job level you feel is most closely matched to the users input\n",
      "\t\"match_score\": string  // A score 0-100 of how close you think the match is between user input and your match\n",
      "}\n",
      "```\n"
     ]
    }
   ],
   "source": [
    "# See the prompt template you created for formatting\n",
    "format_instructions = output_parser.get_format_instructions()\n",
    "print (output_parser.get_format_instructions())"
   ]
  },
  {
   "cell_type": "code",
   "execution_count": 12,
   "metadata": {},
   "outputs": [],
   "source": [
    "template = \"\"\"\n",
    "You will be given a list of job titles from a user, delineated by \";\"\n",
    "For each job title, find the best corresponding match on the list of standardized job functions and job levels.\n",
    "The closest match will be the one with the closest semantic meaning. Not just string similarity.\n",
    "\n",
    "{format_instructions}\n",
    "\n",
    "Wrap your final output with cloased and open brackets (a list of json objects). Nothing else. \n",
    "\n",
    "job_titles INPUT: {job_titles}\n",
    "\n",
    "job_functions:{job_functions}\n",
    "job_levels: {job_levels}\n",
    "\n",
    "YOUR RESPONSE:\n",
    "\n",
    "\"\"\"\n",
    "\n",
    "prompt = ChatPromptTemplate(\n",
    "    messages=[\n",
    "        HumanMessagePromptTemplate.from_template(template)  \n",
    "    ],\n",
    "    input_variables=[\"job_titles\", \"job_functions\", \"job_levels\"],\n",
    "    partial_variables={\"format_instructions\": format_instructions}\n",
    ")"
   ]
  },
  {
   "attachments": {},
   "cell_type": "markdown",
   "metadata": {},
   "source": [
    "# Define Inputs"
   ]
  },
  {
   "cell_type": "code",
   "execution_count": 13,
   "metadata": {},
   "outputs": [
    {
     "data": {
      "text/plain": [
       "'unknown, finance, engineering, customer success, retail, operations, design, sales, marketing, administration, support, product, general management, HR, commercial management, analytics, recruiting, legal'"
      ]
     },
     "execution_count": 13,
     "metadata": {},
     "output_type": "execute_result"
    }
   ],
   "source": [
    "# standardized job functions and levels\n",
    "df = pd.read_csv('job_functions.csv')\n",
    "job_functions = \", \".join(df['functions'].values)\n",
    "job_functions"
   ]
  },
  {
   "cell_type": "code",
   "execution_count": 8,
   "metadata": {},
   "outputs": [
    {
     "data": {
      "text/plain": [
       "'Director, line, CXO, VP, Manager'"
      ]
     },
     "execution_count": 8,
     "metadata": {},
     "output_type": "execute_result"
    }
   ],
   "source": [
    "# standardized job functions and levels\n",
    "df = pd.read_csv('job_levels.csv')\n",
    "job_levels = \", \".join(df['level'].values)\n",
    "job_levels"
   ]
  },
  {
   "cell_type": "code",
   "execution_count": 9,
   "metadata": {},
   "outputs": [
    {
     "data": {
      "text/plain": [
       "'administrateur reseaux   developpeur windev;production lead;manager;senior director global dtc;director business integration;head muckety muck;vice president;network administrator;vice president   development'"
      ]
     },
     "execution_count": 9,
     "metadata": {},
     "output_type": "execute_result"
    }
   ],
   "source": [
    "# Input\n",
    "\n",
    "df = pd.read_csv('job_titles_uncoded.csv')\n",
    "# df = pd.read_csv('job_titles_coded.csv')\n",
    "job_titles = \";\".join(df['job_title'].values[10:19])\n",
    "job_titles"
   ]
  },
  {
   "cell_type": "code",
   "execution_count": 14,
   "metadata": {},
   "outputs": [
    {
     "name": "stdout",
     "output_type": "stream",
     "text": [
      "There are 1 message(s)\n",
      "Type: <class 'langchain.schema.HumanMessage'>\n",
      "---------------------------\n",
      "\n",
      "You will be given a list of job titles from a user, delineated by \";\"\n",
      "For each job title, find the best corresponding match on the list of standardized job functions and job levels.\n",
      "The closest match will be the one with the closest semantic meaning. Not just string similarity.\n",
      "\n",
      "The output should be a markdown code snippet formatted in the following schema, including the leading and trailing \"\\`\\`\\`json\" and \"\\`\\`\\`\":\n",
      "\n",
      "```json\n",
      "{\n",
      "\t\"input_job titles\": string  // This is the raw job titles from the user\n",
      "\t\"job functions\": string  // This is the job function you feel is most closely matched to the users input\n",
      "\t\"job level\": string  // This is the job level you feel is most closely matched to the users input\n",
      "\t\"match_score\": string  // A score 0-100 of how close you think the match is between user input and your match\n",
      "}\n",
      "```\n",
      "\n",
      "Wrap your final output with cloased and open brackets (a list of json objects). Nothing else. \n",
      "\n",
      "job_titles INPUT: administrateur reseaux   developpeur windev;production lead;manager;senior director global dtc;director business integration;head muckety muck;vice president;network administrator;vice president   development\n",
      "\n",
      "job_functions:unknown, finance, engineering, customer success, retail, operations, design, sales, marketing, administration, support, product, general management, HR, commercial management, analytics, recruiting, legal\n",
      "job_levels: Director, line, CXO, VP, Manager\n",
      "\n",
      "YOUR RESPONSE:\n",
      "\n",
      "\n"
     ]
    }
   ],
   "source": [
    "user_input = job_titles\n",
    "\n",
    "_input = prompt.format_prompt(job_titles=user_input, job_functions=job_functions, job_levels = job_levels)\n",
    "\n",
    "\n",
    "print (f\"There are {len(_input.messages)} message(s)\")\n",
    "print (f\"Type: {type(_input.messages[0])}\")\n",
    "print (\"---------------------------\")\n",
    "print (_input.messages[0].content)"
   ]
  },
  {
   "attachments": {},
   "cell_type": "markdown",
   "metadata": {},
   "source": [
    "## Run model \n"
   ]
  },
  {
   "cell_type": "code",
   "execution_count": 15,
   "metadata": {},
   "outputs": [
    {
     "name": "stdout",
     "output_type": "stream",
     "text": [
      "<class 'langchain.schema.AIMessage'>\n",
      "```json\n",
      "[\n",
      "\t{\n",
      "\t\t\"input_job titles\": \"administrateur reseaux\",\n",
      "\t\t\"job functions\": \"engineering\",\n",
      "\t\t\"job level\": \"line\",\n",
      "\t\t\"match_score\": \"80\"\n",
      "\t},\n",
      "\t{\n",
      "\t\t\"input_job titles\": \"developpeur windev\",\n",
      "\t\t\"job functions\": \"engineering\",\n",
      "\t\t\"job level\": \"line\",\n",
      "\t\t\"match_score\": \"90\"\n",
      "\t},\n",
      "\t{\n",
      "\t\t\"input_job titles\": \"production lead\",\n",
      "\t\t\"job functions\": \"operations\",\n",
      "\t\t\"job level\": \"line\",\n",
      "\t\t\"match_score\": \"85\"\n",
      "\t},\n",
      "\t{\n",
      "\t\t\"input_job titles\": \"manager\",\n",
      "\t\t\"job functions\": \"general management\",\n",
      "\t\t\"job level\": \"Manager\",\n",
      "\t\t\"match_score\": \"80\"\n",
      "\t},\n",
      "\t{\n",
      "\t\t\"input_job titles\": \"senior director global dtc\",\n",
      "\t\t\"job functions\": \"general management\",\n",
      "\t\t\"job level\": \"Director\",\n",
      "\t\t\"match_score\": \"90\"\n",
      "\t},\n",
      "\t{\n",
      "\t\t\"input_job titles\": \"director business integration\",\n",
      "\t\t\"job functions\": \"general management\",\n",
      "\t\t\"job level\": \"Director\",\n",
      "\t\t\"match_score\": \"95\"\n",
      "\t},\n",
      "\t{\n",
      "\t\t\"input_job titles\": \"head muckety muck\",\n",
      "\t\t\"job functions\": \"unknown\",\n",
      "\t\t\"job level\": \"CXO\",\n",
      "\t\t\"match_score\": \"50\"\n",
      "\t},\n",
      "\t{\n",
      "\t\t\"input_job titles\": \"vice president\",\n",
      "\t\t\"job functions\": \"general management\",\n",
      "\t\t\"job level\": \"VP\",\n",
      "\t\t\"match_score\": \"80\"\n",
      "\t},\n",
      "\t{\n",
      "\t\t\"input_job titles\": \"network administrator\",\n",
      "\t\t\"job functions\": \"engineering\",\n",
      "\t\t\"job level\": \"line\",\n",
      "\t\t\"match_score\": \"85\"\n",
      "\t},\n",
      "\t{\n",
      "\t\t\"input_job titles\": \"vice president   development\",\n",
      "\t\t\"job functions\": \"engineering\",\n",
      "\t\t\"job level\": \"VP\",\n",
      "\t\t\"match_score\": \"90\"\n",
      "\t}\n",
      "]\n",
      "```\n"
     ]
    }
   ],
   "source": [
    "output = chat_model(_input.to_messages())\n",
    "print (type(output))\n",
    "print (output.content)"
   ]
  },
  {
   "cell_type": "code",
   "execution_count": 16,
   "metadata": {},
   "outputs": [],
   "source": [
    "if \"```json\" in output.content:\n",
    "    json_string = output.content.split(\"```json\")[1].strip()\n",
    "    json_string = json_string.split(\"```\")[0].strip()\n",
    "else:\n",
    "    json_string = output.content"
   ]
  },
  {
   "cell_type": "code",
   "execution_count": 17,
   "metadata": {},
   "outputs": [
    {
     "name": "stdout",
     "output_type": "stream",
     "text": [
      "[\n",
      "\t{\n",
      "\t\t\"input_job titles\": \"administrateur reseaux\",\n",
      "\t\t\"job functions\": \"engineering\",\n",
      "\t\t\"job level\": \"line\",\n",
      "\t\t\"match_score\": \"80\"\n",
      "\t},\n",
      "\t{\n",
      "\t\t\"input_job titles\": \"developpeur windev\",\n",
      "\t\t\"job functions\": \"engineering\",\n",
      "\t\t\"job level\": \"line\",\n",
      "\t\t\"match_score\": \"90\"\n",
      "\t},\n",
      "\t{\n",
      "\t\t\"input_job titles\": \"production lead\",\n",
      "\t\t\"job functions\": \"operations\",\n",
      "\t\t\"job level\": \"line\",\n",
      "\t\t\"match_score\": \"85\"\n",
      "\t},\n",
      "\t{\n",
      "\t\t\"input_job titles\": \"manager\",\n",
      "\t\t\"job functions\": \"general management\",\n",
      "\t\t\"job level\": \"Manager\",\n",
      "\t\t\"match_score\": \"80\"\n",
      "\t},\n",
      "\t{\n",
      "\t\t\"input_job titles\": \"senior director global dtc\",\n",
      "\t\t\"job functions\": \"general management\",\n",
      "\t\t\"job level\": \"Director\",\n",
      "\t\t\"match_score\": \"90\"\n",
      "\t},\n",
      "\t{\n",
      "\t\t\"input_job titles\": \"director business integration\",\n",
      "\t\t\"job functions\": \"general management\",\n",
      "\t\t\"job level\": \"Director\",\n",
      "\t\t\"match_score\": \"95\"\n",
      "\t},\n",
      "\t{\n",
      "\t\t\"input_job titles\": \"head muckety muck\",\n",
      "\t\t\"job functions\": \"unknown\",\n",
      "\t\t\"job level\": \"CXO\",\n",
      "\t\t\"match_score\": \"50\"\n",
      "\t},\n",
      "\t{\n",
      "\t\t\"input_job titles\": \"vice president\",\n",
      "\t\t\"job functions\": \"general management\",\n",
      "\t\t\"job level\": \"VP\",\n",
      "\t\t\"match_score\": \"80\"\n",
      "\t},\n",
      "\t{\n",
      "\t\t\"input_job titles\": \"network administrator\",\n",
      "\t\t\"job functions\": \"engineering\",\n",
      "\t\t\"job level\": \"line\",\n",
      "\t\t\"match_score\": \"85\"\n",
      "\t},\n",
      "\t{\n",
      "\t\t\"input_job titles\": \"vice president   development\",\n",
      "\t\t\"job functions\": \"engineering\",\n",
      "\t\t\"job level\": \"VP\",\n",
      "\t\t\"match_score\": \"90\"\n",
      "\t}\n",
      "]\n"
     ]
    }
   ],
   "source": [
    "print(json_string)"
   ]
  },
  {
   "cell_type": "code",
   "execution_count": 18,
   "metadata": {},
   "outputs": [
    {
     "data": {
      "text/plain": [
       "[{'input_job titles': 'administrateur reseaux',\n",
       "  'job functions': 'engineering',\n",
       "  'job level': 'line',\n",
       "  'match_score': '80'},\n",
       " {'input_job titles': 'developpeur windev',\n",
       "  'job functions': 'engineering',\n",
       "  'job level': 'line',\n",
       "  'match_score': '90'},\n",
       " {'input_job titles': 'production lead',\n",
       "  'job functions': 'operations',\n",
       "  'job level': 'line',\n",
       "  'match_score': '85'},\n",
       " {'input_job titles': 'manager',\n",
       "  'job functions': 'general management',\n",
       "  'job level': 'Manager',\n",
       "  'match_score': '80'},\n",
       " {'input_job titles': 'senior director global dtc',\n",
       "  'job functions': 'general management',\n",
       "  'job level': 'Director',\n",
       "  'match_score': '90'},\n",
       " {'input_job titles': 'director business integration',\n",
       "  'job functions': 'general management',\n",
       "  'job level': 'Director',\n",
       "  'match_score': '95'},\n",
       " {'input_job titles': 'head muckety muck',\n",
       "  'job functions': 'unknown',\n",
       "  'job level': 'CXO',\n",
       "  'match_score': '50'},\n",
       " {'input_job titles': 'vice president',\n",
       "  'job functions': 'general management',\n",
       "  'job level': 'VP',\n",
       "  'match_score': '80'},\n",
       " {'input_job titles': 'network administrator',\n",
       "  'job functions': 'engineering',\n",
       "  'job level': 'line',\n",
       "  'match_score': '85'},\n",
       " {'input_job titles': 'vice president   development',\n",
       "  'job functions': 'engineering',\n",
       "  'job level': 'VP',\n",
       "  'match_score': '90'}]"
      ]
     },
     "execution_count": 18,
     "metadata": {},
     "output_type": "execute_result"
    }
   ],
   "source": [
    "# output_parser.parse(output.content) Ideally this works but not in all cases\n",
    "structured_data = json.loads(json_string)\n",
    "structured_data"
   ]
  },
  {
   "cell_type": "code",
   "execution_count": 20,
   "metadata": {},
   "outputs": [
    {
     "data": {
      "text/html": [
       "<div>\n",
       "<style scoped>\n",
       "    .dataframe tbody tr th:only-of-type {\n",
       "        vertical-align: middle;\n",
       "    }\n",
       "\n",
       "    .dataframe tbody tr th {\n",
       "        vertical-align: top;\n",
       "    }\n",
       "\n",
       "    .dataframe thead th {\n",
       "        text-align: right;\n",
       "    }\n",
       "</style>\n",
       "<table border=\"1\" class=\"dataframe\">\n",
       "  <thead>\n",
       "    <tr style=\"text-align: right;\">\n",
       "      <th></th>\n",
       "      <th>input_job titles</th>\n",
       "      <th>job functions</th>\n",
       "      <th>job level</th>\n",
       "      <th>match_score</th>\n",
       "      <th>functions</th>\n",
       "    </tr>\n",
       "  </thead>\n",
       "  <tbody>\n",
       "    <tr>\n",
       "      <th>0</th>\n",
       "      <td>administrateur reseaux</td>\n",
       "      <td>engineering</td>\n",
       "      <td>line</td>\n",
       "      <td>80</td>\n",
       "      <td>NaN</td>\n",
       "    </tr>\n",
       "    <tr>\n",
       "      <th>1</th>\n",
       "      <td>developpeur windev</td>\n",
       "      <td>engineering</td>\n",
       "      <td>line</td>\n",
       "      <td>90</td>\n",
       "      <td>NaN</td>\n",
       "    </tr>\n",
       "    <tr>\n",
       "      <th>2</th>\n",
       "      <td>production lead</td>\n",
       "      <td>operations</td>\n",
       "      <td>line</td>\n",
       "      <td>85</td>\n",
       "      <td>NaN</td>\n",
       "    </tr>\n",
       "    <tr>\n",
       "      <th>3</th>\n",
       "      <td>manager</td>\n",
       "      <td>general management</td>\n",
       "      <td>Manager</td>\n",
       "      <td>80</td>\n",
       "      <td>NaN</td>\n",
       "    </tr>\n",
       "    <tr>\n",
       "      <th>4</th>\n",
       "      <td>senior director global dtc</td>\n",
       "      <td>general management</td>\n",
       "      <td>Director</td>\n",
       "      <td>90</td>\n",
       "      <td>NaN</td>\n",
       "    </tr>\n",
       "    <tr>\n",
       "      <th>5</th>\n",
       "      <td>director business integration</td>\n",
       "      <td>general management</td>\n",
       "      <td>Director</td>\n",
       "      <td>95</td>\n",
       "      <td>NaN</td>\n",
       "    </tr>\n",
       "    <tr>\n",
       "      <th>6</th>\n",
       "      <td>head muckety muck</td>\n",
       "      <td>unknown</td>\n",
       "      <td>CXO</td>\n",
       "      <td>50</td>\n",
       "      <td>NaN</td>\n",
       "    </tr>\n",
       "    <tr>\n",
       "      <th>7</th>\n",
       "      <td>vice president</td>\n",
       "      <td>general management</td>\n",
       "      <td>VP</td>\n",
       "      <td>80</td>\n",
       "      <td>NaN</td>\n",
       "    </tr>\n",
       "    <tr>\n",
       "      <th>8</th>\n",
       "      <td>network administrator</td>\n",
       "      <td>engineering</td>\n",
       "      <td>line</td>\n",
       "      <td>85</td>\n",
       "      <td>NaN</td>\n",
       "    </tr>\n",
       "    <tr>\n",
       "      <th>9</th>\n",
       "      <td>vice president   development</td>\n",
       "      <td>engineering</td>\n",
       "      <td>VP</td>\n",
       "      <td>90</td>\n",
       "      <td>NaN</td>\n",
       "    </tr>\n",
       "    <tr>\n",
       "      <th>10</th>\n",
       "      <td>NaN</td>\n",
       "      <td>NaN</td>\n",
       "      <td>NaN</td>\n",
       "      <td>NaN</td>\n",
       "      <td>support</td>\n",
       "    </tr>\n",
       "    <tr>\n",
       "      <th>11</th>\n",
       "      <td>NaN</td>\n",
       "      <td>NaN</td>\n",
       "      <td>NaN</td>\n",
       "      <td>NaN</td>\n",
       "      <td>product</td>\n",
       "    </tr>\n",
       "    <tr>\n",
       "      <th>12</th>\n",
       "      <td>NaN</td>\n",
       "      <td>NaN</td>\n",
       "      <td>NaN</td>\n",
       "      <td>NaN</td>\n",
       "      <td>general management</td>\n",
       "    </tr>\n",
       "    <tr>\n",
       "      <th>13</th>\n",
       "      <td>NaN</td>\n",
       "      <td>NaN</td>\n",
       "      <td>NaN</td>\n",
       "      <td>NaN</td>\n",
       "      <td>HR</td>\n",
       "    </tr>\n",
       "    <tr>\n",
       "      <th>14</th>\n",
       "      <td>NaN</td>\n",
       "      <td>NaN</td>\n",
       "      <td>NaN</td>\n",
       "      <td>NaN</td>\n",
       "      <td>commercial management</td>\n",
       "    </tr>\n",
       "    <tr>\n",
       "      <th>15</th>\n",
       "      <td>NaN</td>\n",
       "      <td>NaN</td>\n",
       "      <td>NaN</td>\n",
       "      <td>NaN</td>\n",
       "      <td>analytics</td>\n",
       "    </tr>\n",
       "    <tr>\n",
       "      <th>16</th>\n",
       "      <td>NaN</td>\n",
       "      <td>NaN</td>\n",
       "      <td>NaN</td>\n",
       "      <td>NaN</td>\n",
       "      <td>recruiting</td>\n",
       "    </tr>\n",
       "    <tr>\n",
       "      <th>17</th>\n",
       "      <td>NaN</td>\n",
       "      <td>NaN</td>\n",
       "      <td>NaN</td>\n",
       "      <td>NaN</td>\n",
       "      <td>legal</td>\n",
       "    </tr>\n",
       "  </tbody>\n",
       "</table>\n",
       "</div>"
      ],
      "text/plain": [
       "                 input_job titles       job functions job level match_score   \n",
       "0          administrateur reseaux         engineering      line          80  \\\n",
       "1              developpeur windev         engineering      line          90   \n",
       "2                 production lead          operations      line          85   \n",
       "3                         manager  general management   Manager          80   \n",
       "4      senior director global dtc  general management  Director          90   \n",
       "5   director business integration  general management  Director          95   \n",
       "6               head muckety muck             unknown       CXO          50   \n",
       "7                  vice president  general management        VP          80   \n",
       "8           network administrator         engineering      line          85   \n",
       "9    vice president   development         engineering        VP          90   \n",
       "10                            NaN                 NaN       NaN         NaN   \n",
       "11                            NaN                 NaN       NaN         NaN   \n",
       "12                            NaN                 NaN       NaN         NaN   \n",
       "13                            NaN                 NaN       NaN         NaN   \n",
       "14                            NaN                 NaN       NaN         NaN   \n",
       "15                            NaN                 NaN       NaN         NaN   \n",
       "16                            NaN                 NaN       NaN         NaN   \n",
       "17                            NaN                 NaN       NaN         NaN   \n",
       "\n",
       "                functions  \n",
       "0                     NaN  \n",
       "1                     NaN  \n",
       "2                     NaN  \n",
       "3                     NaN  \n",
       "4                     NaN  \n",
       "5                     NaN  \n",
       "6                     NaN  \n",
       "7                     NaN  \n",
       "8                     NaN  \n",
       "9                     NaN  \n",
       "10                support  \n",
       "11                product  \n",
       "12     general management  \n",
       "13                     HR  \n",
       "14  commercial management  \n",
       "15              analytics  \n",
       "16             recruiting  \n",
       "17                  legal  "
      ]
     },
     "execution_count": 20,
     "metadata": {},
     "output_type": "execute_result"
    }
   ],
   "source": [
    "pd.concat([pd.DataFrame(structured_data), df.loc[10:19, 'functions']], axis=1)"
   ]
  },
  {
   "cell_type": "code",
   "execution_count": null,
   "metadata": {},
   "outputs": [],
   "source": []
  }
 ],
 "metadata": {
  "kernelspec": {
   "display_name": "Python 3",
   "language": "python",
   "name": "python3"
  },
  "language_info": {
   "codemirror_mode": {
    "name": "ipython",
    "version": 3
   },
   "file_extension": ".py",
   "mimetype": "text/x-python",
   "name": "python",
   "nbconvert_exporter": "python",
   "pygments_lexer": "ipython3",
   "version": "3.9.13"
  },
  "orig_nbformat": 4
 },
 "nbformat": 4,
 "nbformat_minor": 2
}
