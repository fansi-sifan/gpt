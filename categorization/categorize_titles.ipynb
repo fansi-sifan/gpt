{
 "cells": [
  {
   "attachments": {},
   "cell_type": "markdown",
   "metadata": {},
   "source": [
    "# Categorize raw job titles into pre-defined job functions and job levels"
   ]
  },
  {
   "attachments": {},
   "cell_type": "markdown",
   "metadata": {},
   "source": [
    "# Load library"
   ]
  },
  {
   "cell_type": "code",
   "execution_count": 2,
   "metadata": {},
   "outputs": [],
   "source": [
    "from langchain.output_parsers import StructuredOutputParser, ResponseSchema\n",
    "from langchain.prompts import ChatPromptTemplate, HumanMessagePromptTemplate\n",
    "from langchain.llms import OpenAI\n",
    "from langchain.chat_models import ChatOpenAI\n",
    "import pandas as pd\n",
    "import json"
   ]
  },
  {
   "cell_type": "code",
   "execution_count": 5,
   "metadata": {},
   "outputs": [],
   "source": [
    "import os\n",
    "import openai\n",
    "from dotenv import load_dotenv, find_dotenv\n",
    "_ = load_dotenv(find_dotenv()) # read local .env file\n",
    "\n",
    "openai.api_key  = os.getenv('OPENAI_API_KEY')"
   ]
  },
  {
   "attachments": {},
   "cell_type": "markdown",
   "metadata": {},
   "source": [
    "# Define Model and output format"
   ]
  },
  {
   "cell_type": "code",
   "execution_count": 7,
   "metadata": {},
   "outputs": [],
   "source": [
    "# Temp = 0 so that we get clean information without a lot of creativity\n",
    "chat_model = ChatOpenAI(temperature=0, max_tokens=1000)"
   ]
  },
  {
   "cell_type": "code",
   "execution_count": 8,
   "metadata": {},
   "outputs": [],
   "source": [
    "# Define reponse structured as prompt template\n",
    "response_schemas = [\n",
    "    ResponseSchema(name=\"input_job titles\", description=\"This is the raw job titles from the user\"),\n",
    "    ResponseSchema(name=\"job functions\", description=\"This is the job function you feel is most closely matched to the users input\"),\n",
    "    ResponseSchema(name=\"job level\", description=\"This is the job level you feel is most closely matched to the users input\"),\n",
    "    ResponseSchema(name=\"match_score\",  description=\"A score 0-100 of how close you think the match is between user input and your match\")\n",
    "]\n",
    "\n",
    "# parse your output\n",
    "output_parser = StructuredOutputParser.from_response_schemas(response_schemas)"
   ]
  },
  {
   "cell_type": "code",
   "execution_count": 9,
   "metadata": {},
   "outputs": [
    {
     "name": "stdout",
     "output_type": "stream",
     "text": [
      "The output should be a markdown code snippet formatted in the following schema, including the leading and trailing \"\\`\\`\\`json\" and \"\\`\\`\\`\":\n",
      "\n",
      "```json\n",
      "{\n",
      "\t\"input_job titles\": string  // This is the raw job titles from the user\n",
      "\t\"job functions\": string  // This is the job function you feel is most closely matched to the users input\n",
      "\t\"job level\": string  // This is the job level you feel is most closely matched to the users input\n",
      "\t\"match_score\": string  // A score 0-100 of how close you think the match is between user input and your match\n",
      "}\n",
      "```\n"
     ]
    }
   ],
   "source": [
    "# See the prompt template you created for formatting\n",
    "format_instructions = output_parser.get_format_instructions()\n",
    "print (output_parser.get_format_instructions())"
   ]
  },
  {
   "cell_type": "code",
   "execution_count": 21,
   "metadata": {},
   "outputs": [],
   "source": [
    "template = \"\"\"\n",
    "You will be given a series of job titles from a user.\n",
    "Find the best corresponding match on the list of standardized names.\n",
    "The closest match will be the one with the closest semantic meaning. Not just string similarity.\n",
    "\n",
    "{format_instructions}\n",
    "\n",
    "Wrap your final output with cloased and open brackets (a list of json objects)\n",
    "\n",
    "job_titles INPUT: {job_titles}\n",
    "\n",
    "job_functions:{job_functions}\n",
    "job_levels: {job_levels}\n",
    "\n",
    "YOUR RESPONSE:\n",
    "\n",
    "\"\"\"\n",
    "\n",
    "prompt = ChatPromptTemplate(\n",
    "    messages=[\n",
    "        HumanMessagePromptTemplate.from_template(template)  \n",
    "    ],\n",
    "    input_variables=[\"job_titles\", \"job_functions\", \"job_levels\"],\n",
    "    partial_variables={\"format_instructions\": format_instructions}\n",
    ")"
   ]
  },
  {
   "attachments": {},
   "cell_type": "markdown",
   "metadata": {},
   "source": [
    "# Define Inputs"
   ]
  },
  {
   "cell_type": "code",
   "execution_count": 11,
   "metadata": {},
   "outputs": [
    {
     "data": {
      "text/plain": [
       "'unknown, finance, engineering, customer success, retail, operations, design, sales, marketing, administration, support, product, general management, HR, commercial management, analytics, recruiting, legal'"
      ]
     },
     "execution_count": 11,
     "metadata": {},
     "output_type": "execute_result"
    }
   ],
   "source": [
    "# standardized job functions and levels\n",
    "df = pd.read_csv('job_functions.csv')\n",
    "job_functions = \", \".join(df['functions'].values)\n",
    "job_functions"
   ]
  },
  {
   "cell_type": "code",
   "execution_count": 14,
   "metadata": {},
   "outputs": [
    {
     "data": {
      "text/plain": [
       "'Director, line, CXO, VP, Manager'"
      ]
     },
     "execution_count": 14,
     "metadata": {},
     "output_type": "execute_result"
    }
   ],
   "source": [
    "# standardized job functions and levels\n",
    "df = pd.read_csv('job_levels.csv')\n",
    "job_levels = \", \".join(df['level'].values)\n",
    "job_levels"
   ]
  },
  {
   "cell_type": "code",
   "execution_count": 18,
   "metadata": {},
   "outputs": [
    {
     "data": {
      "text/plain": [
       "'non executive director, chief scientist, test team lead, director of system test, safety manager, photographe   infographiste, program manager, manаger, supervisor operacional, senior delivery manager'"
      ]
     },
     "execution_count": 18,
     "metadata": {},
     "output_type": "execute_result"
    }
   ],
   "source": [
    "# Input\n",
    "\n",
    "df = pd.read_csv('job_titles.csv')\n",
    "job_titles = \", \".join(df['job_title'].values[0:10])\n",
    "job_titles"
   ]
  },
  {
   "cell_type": "code",
   "execution_count": 22,
   "metadata": {},
   "outputs": [
    {
     "name": "stdout",
     "output_type": "stream",
     "text": [
      "There are 1 message(s)\n",
      "Type: <class 'langchain.schema.HumanMessage'>\n",
      "---------------------------\n",
      "\n",
      "You will be given a series of job titles from a user.\n",
      "Find the best corresponding match on the list of standardized names.\n",
      "The closest match will be the one with the closest semantic meaning. Not just string similarity.\n",
      "\n",
      "The output should be a markdown code snippet formatted in the following schema, including the leading and trailing \"\\`\\`\\`json\" and \"\\`\\`\\`\":\n",
      "\n",
      "```json\n",
      "{\n",
      "\t\"input_job titles\": string  // This is the raw job titles from the user\n",
      "\t\"job functions\": string  // This is the job function you feel is most closely matched to the users input\n",
      "\t\"job level\": string  // This is the job level you feel is most closely matched to the users input\n",
      "\t\"match_score\": string  // A score 0-100 of how close you think the match is between user input and your match\n",
      "}\n",
      "```\n",
      "\n",
      "Wrap your final output with cloased and open brackets (a list of json objects)\n",
      "\n",
      "job_titles INPUT: non executive director, chief scientist, test team lead, director of system test, safety manager, photographe   infographiste, program manager, manаger, supervisor operacional, senior delivery manager\n",
      "\n",
      "job_functions:unknown, finance, engineering, customer success, retail, operations, design, sales, marketing, administration, support, product, general management, HR, commercial management, analytics, recruiting, legal\n",
      "job_levels: Director, line, CXO, VP, Manager\n",
      "\n",
      "YOUR RESPONSE:\n",
      "\n",
      "\n"
     ]
    }
   ],
   "source": [
    "user_input = job_titles\n",
    "\n",
    "_input = prompt.format_prompt(job_titles=user_input, job_functions=job_functions, job_levels = job_levels)\n",
    "\n",
    "\n",
    "print (f\"There are {len(_input.messages)} message(s)\")\n",
    "print (f\"Type: {type(_input.messages[0])}\")\n",
    "print (\"---------------------------\")\n",
    "print (_input.messages[0].content)"
   ]
  },
  {
   "attachments": {},
   "cell_type": "markdown",
   "metadata": {},
   "source": [
    "## Run model \n"
   ]
  },
  {
   "cell_type": "code",
   "execution_count": 23,
   "metadata": {},
   "outputs": [
    {
     "name": "stdout",
     "output_type": "stream",
     "text": [
      "<class 'langchain.schema.AIMessage'>\n",
      "```json\n",
      "[\n",
      "\t{\n",
      "\t\t\"input_job titles\": \"non executive director\",\n",
      "\t\t\"job functions\": \"general management\",\n",
      "\t\t\"job level\": \"Director\",\n",
      "\t\t\"match_score\": \"90\"\n",
      "\t},\n",
      "\t{\n",
      "\t\t\"input_job titles\": \"chief scientist\",\n",
      "\t\t\"job functions\": \"engineering\",\n",
      "\t\t\"job level\": \"CXO\",\n",
      "\t\t\"match_score\": \"95\"\n",
      "\t},\n",
      "\t{\n",
      "\t\t\"input_job titles\": \"test team lead\",\n",
      "\t\t\"job functions\": \"engineering\",\n",
      "\t\t\"job level\": \"line\",\n",
      "\t\t\"match_score\": \"85\"\n",
      "\t},\n",
      "\t{\n",
      "\t\t\"input_job titles\": \"director of system test\",\n",
      "\t\t\"job functions\": \"engineering\",\n",
      "\t\t\"job level\": \"Director\",\n",
      "\t\t\"match_score\": \"95\"\n",
      "\t},\n",
      "\t{\n",
      "\t\t\"input_job titles\": \"safety manager\",\n",
      "\t\t\"job functions\": \"operations\",\n",
      "\t\t\"job level\": \"Manager\",\n",
      "\t\t\"match_score\": \"80\"\n",
      "\t},\n",
      "\t{\n",
      "\t\t\"input_job titles\": \"photographe infographiste\",\n",
      "\t\t\"job functions\": \"design\",\n",
      "\t\t\"job level\": \"line\",\n",
      "\t\t\"match_score\": \"70\"\n",
      "\t},\n",
      "\t{\n",
      "\t\t\"input_job titles\": \"program manager\",\n",
      "\t\t\"job functions\": \"operations\",\n",
      "\t\t\"job level\": \"Manager\",\n",
      "\t\t\"match_score\": \"80\"\n",
      "\t},\n",
      "\t{\n",
      "\t\t\"input_job titles\": \"manаger\",\n",
      "\t\t\"job functions\": \"operations\",\n",
      "\t\t\"job level\": \"Manager\",\n",
      "\t\t\"match_score\": \"70\"\n",
      "\t},\n",
      "\t{\n",
      "\t\t\"input_job titles\": \"supervisor operacional\",\n",
      "\t\t\"job functions\": \"operations\",\n",
      "\t\t\"job level\": \"line\",\n",
      "\t\t\"match_score\": \"75\"\n",
      "\t},\n",
      "\t{\n",
      "\t\t\"input_job titles\": \"senior delivery manager\",\n",
      "\t\t\"job functions\": \"operations\",\n",
      "\t\t\"job level\": \"Manager\",\n",
      "\t\t\"match_score\": \"90\"\n",
      "\t}\n",
      "]\n",
      "```\n"
     ]
    }
   ],
   "source": [
    "output = chat_model(_input.to_messages())\n",
    "print (type(output))\n",
    "print (output.content)"
   ]
  },
  {
   "cell_type": "code",
   "execution_count": 24,
   "metadata": {},
   "outputs": [],
   "source": [
    "if \"```json\" in output.content:\n",
    "    json_string = output.content.split(\"```json\")[1].strip()\n",
    "else:\n",
    "    json_string = output.content"
   ]
  },
  {
   "cell_type": "code",
   "execution_count": 28,
   "metadata": {},
   "outputs": [
    {
     "name": "stdout",
     "output_type": "stream",
     "text": [
      "```json\n",
      "[\n",
      "\t{\n",
      "\t\t\"input_job titles\": \"non executive director\",\n",
      "\t\t\"job functions\": \"general management\",\n",
      "\t\t\"job level\": \"Director\",\n",
      "\t\t\"match_score\": \"90\"\n",
      "\t},\n",
      "\t{\n",
      "\t\t\"input_job titles\": \"chief scientist\",\n",
      "\t\t\"job functions\": \"engineering\",\n",
      "\t\t\"job level\": \"CXO\",\n",
      "\t\t\"match_score\": \"95\"\n",
      "\t},\n",
      "\t{\n",
      "\t\t\"input_job titles\": \"test team lead\",\n",
      "\t\t\"job functions\": \"engineering\",\n",
      "\t\t\"job level\": \"line\",\n",
      "\t\t\"match_score\": \"85\"\n",
      "\t},\n",
      "\t{\n",
      "\t\t\"input_job titles\": \"director of system test\",\n",
      "\t\t\"job functions\": \"engineering\",\n",
      "\t\t\"job level\": \"Director\",\n",
      "\t\t\"match_score\": \"95\"\n",
      "\t},\n",
      "\t{\n",
      "\t\t\"input_job titles\": \"safety manager\",\n",
      "\t\t\"job functions\": \"operations\",\n",
      "\t\t\"job level\": \"Manager\",\n",
      "\t\t\"match_score\": \"80\"\n",
      "\t},\n",
      "\t{\n",
      "\t\t\"input_job titles\": \"photographe infographiste\",\n",
      "\t\t\"job functions\": \"design\",\n",
      "\t\t\"job level\": \"line\",\n",
      "\t\t\"match_score\": \"70\"\n",
      "\t},\n",
      "\t{\n",
      "\t\t\"input_job titles\": \"program manager\",\n",
      "\t\t\"job functions\": \"operations\",\n",
      "\t\t\"job level\": \"Manager\",\n",
      "\t\t\"match_score\": \"80\"\n",
      "\t},\n",
      "\t{\n",
      "\t\t\"input_job titles\": \"manаger\",\n",
      "\t\t\"job functions\": \"operations\",\n",
      "\t\t\"job level\": \"Manager\",\n",
      "\t\t\"match_score\": \"70\"\n",
      "\t},\n",
      "\t{\n",
      "\t\t\"input_job titles\": \"supervisor operacional\",\n",
      "\t\t\"job functions\": \"operations\",\n",
      "\t\t\"job level\": \"line\",\n",
      "\t\t\"match_score\": \"75\"\n",
      "\t},\n",
      "\t{\n",
      "\t\t\"input_job titles\": \"senior delivery manager\",\n",
      "\t\t\"job functions\": \"operations\",\n",
      "\t\t\"job level\": \"Manager\",\n",
      "\t\t\"match_score\": \"90\"\n",
      "\t}\n",
      "]\n",
      "```\n"
     ]
    }
   ],
   "source": [
    "print(output.content)"
   ]
  }
 ],
 "metadata": {
  "kernelspec": {
   "display_name": "Python 3",
   "language": "python",
   "name": "python3"
  },
  "language_info": {
   "codemirror_mode": {
    "name": "ipython",
    "version": 3
   },
   "file_extension": ".py",
   "mimetype": "text/x-python",
   "name": "python",
   "nbconvert_exporter": "python",
   "pygments_lexer": "ipython3",
   "version": "3.9.13"
  },
  "orig_nbformat": 4
 },
 "nbformat": 4,
 "nbformat_minor": 2
}
